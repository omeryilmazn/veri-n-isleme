{
 "cells": [
  {
   "cell_type": "markdown",
   "id": "a696f7a2-49e6-4fe6-9f63-3fd64c87e4df",
   "metadata": {
    "tags": []
   },
   "source": [
    "<b> Outlier Tespiti </b>"
   ]
  },
  {
   "cell_type": "code",
   "execution_count": 18,
   "id": "2fde71ee-9f01-40ba-aa6c-acebf4094f2b",
   "metadata": {
    "tags": []
   },
   "outputs": [],
   "source": [
    "import seaborn as sns\n",
    "df = sns.load_dataset(\"diamonds\") #seaborn kütüphanesinden diamonds veri seti\n",
    "df = df.select_dtypes(\"float64\",\"int64\") #sadece sayısal verileri çekmek için filtreleme\n",
    "df = df.dropna() #null değer temizliği"
   ]
  },
  {
   "cell_type": "code",
   "execution_count": 19,
   "id": "695c8cb6-345a-4251-875c-ce686787a89c",
   "metadata": {
    "tags": []
   },
   "outputs": [],
   "source": [
    "df_table = df[\"table\"]"
   ]
  },
  {
   "cell_type": "code",
   "execution_count": 4,
   "id": "3b34c671-ec3e-46a1-b10a-c332c8472cb6",
   "metadata": {
    "tags": []
   },
   "outputs": [
    {
     "data": {
      "text/plain": [
       "<Axes: xlabel='table'>"
      ]
     },
     "execution_count": 4,
     "metadata": {},
     "output_type": "execute_result"
    },
    {
     "data": {
      "image/png": "[encoded data removed]",
      "text/plain": [
       "<Figure size 640x480 with 1 Axes>"
      ]
     },
     "metadata": {},
     "output_type": "display_data"
    }
   ],
   "source": [
    "sns.boxplot(x = df_table) #boxplot grafiğinde sutunun sağ ve sol çizgisi dışında kalan değerler outlierdır."
   ]
  },
  {
   "cell_type": "markdown",
   "id": "c1ec5ab8-984b-41d6-bb3f-e36dc58fb8e8",
   "metadata": {},
   "source": [
    "<b> bir aykırı değere, outlier muamelesi yapmak için öncelikle eşik değer belirlemek gerekiyor. </b>"
   ]
  },
  {
   "cell_type": "code",
   "execution_count": 6,
   "id": "461de8e3-9a3b-4803-9f7a-0d0fdcca300a",
   "metadata": {},
   "outputs": [],
   "source": [
    "Q1 = df_table.quantile(0.25)\n",
    "Q3 = df_table.quantile(0.75)\n",
    "IQR = Q3-Q1"
   ]
  },
  {
   "cell_type": "code",
   "execution_count": 7,
   "id": "2f6fd2b5-4a07-4716-91bf-9b983a91af77",
   "metadata": {
    "tags": []
   },
   "outputs": [
    {
     "data": {
      "text/plain": [
       "3.0"
      ]
     },
     "execution_count": 7,
     "metadata": {},
     "output_type": "execute_result"
    }
   ],
   "source": [
    "IQR"
   ]
  },
  {
   "cell_type": "code",
   "execution_count": 9,
   "id": "9107e131-61ca-4c55-99b5-a16b621bbab0",
   "metadata": {
    "tags": []
   },
   "outputs": [
    {
     "data": {
      "text/plain": [
       "51.5"
      ]
     },
     "execution_count": 9,
     "metadata": {},
     "output_type": "execute_result"
    }
   ],
   "source": [
    "alt_sinir = Q1 - IQR*1.5\n",
    "alt_sinir"
   ]
  },
  {
   "cell_type": "code",
   "execution_count": 10,
   "id": "972a678a-402d-414e-80af-8bb1f560b891",
   "metadata": {
    "tags": []
   },
   "outputs": [
    {
     "data": {
      "text/plain": [
       "63.5"
      ]
     },
     "execution_count": 10,
     "metadata": {},
     "output_type": "execute_result"
    }
   ],
   "source": [
    "ust_sinir = Q3 + IQR*1.5\n",
    "ust_sinir"
   ]
  },
  {
   "cell_type": "code",
   "execution_count": 11,
   "id": "e45ac2a1-2907-481e-a756-9bbab8060e93",
   "metadata": {
    "tags": []
   },
   "outputs": [
    {
     "data": {
      "text/plain": [
       "0        False\n",
       "1        False\n",
       "2         True\n",
       "3        False\n",
       "4        False\n",
       "         ...  \n",
       "53935    False\n",
       "53936    False\n",
       "53937    False\n",
       "53938    False\n",
       "53939    False\n",
       "Name: table, Length: 53940, dtype: bool"
      ]
     },
     "execution_count": 11,
     "metadata": {},
     "output_type": "execute_result"
    }
   ],
   "source": [
    "(df_table < alt_sinir) | (df_table > ust_sinir) #True dönen indexler outlier."
   ]
  },
  {
   "cell_type": "code",
   "execution_count": 12,
   "id": "697bec58-3029-4ff0-a8f9-dabeac7d17b9",
   "metadata": {
    "tags": []
   },
   "outputs": [],
   "source": [
    "aykiri_alt = (df_table < alt_sinir)"
   ]
  },
  {
   "cell_type": "code",
   "execution_count": 13,
   "id": "2e2fa4d4-7635-47d1-9cc8-6f223c4f15a7",
   "metadata": {
    "tags": []
   },
   "outputs": [
    {
     "data": {
      "text/plain": [
       "1515     51.0\n",
       "3238     50.1\n",
       "3979     51.0\n",
       "4150     51.0\n",
       "5979     49.0\n",
       "7418     50.0\n",
       "8853     51.0\n",
       "11368    43.0\n",
       "22701    49.0\n",
       "25179    50.0\n",
       "26387    51.0\n",
       "33586    51.0\n",
       "35633    44.0\n",
       "45798    51.0\n",
       "46040    51.0\n",
       "47630    51.0\n",
       "Name: table, dtype: float64"
      ]
     },
     "execution_count": 13,
     "metadata": {},
     "output_type": "execute_result"
    }
   ],
   "source": [
    "df_table[aykiri_alt] #alt sınırda kalan değerlere bu şekilde ulaşılıyor."
   ]
  },
  {
   "cell_type": "markdown",
   "id": "01264a1d-e701-4f43-8445-c687d10e81fc",
   "metadata": {
    "tags": []
   },
   "source": [
    "### Outlier Silme"
   ]
  },
  {
   "cell_type": "code",
   "execution_count": 14,
   "id": "ac94b5e1-642d-4f86-b187-3b31047b03f0",
   "metadata": {
    "tags": []
   },
   "outputs": [],
   "source": [
    "import pandas as pd"
   ]
  },
  {
   "cell_type": "code",
   "execution_count": 15,
   "id": "caae095d-c3f6-430f-a70f-7fe7fb968023",
   "metadata": {
    "tags": []
   },
   "outputs": [],
   "source": [
    "df_table = pd.DataFrame(df_table)"
   ]
  },
  {
   "cell_type": "code",
   "execution_count": 16,
   "id": "d0de9d9f-8d48-4387-8dc8-b4b736a26d74",
   "metadata": {
    "tags": []
   },
   "outputs": [],
   "source": [
    "data=df_table[~((df_table < (alt_sinir)) | (df_table > (ust_sinir))).any(axis=1)] #tilda işareti belirtilen değerlerin dışındaki sonuçları almaya yarar."
   ]
  },
  {
   "cell_type": "code",
   "execution_count": 17,
   "id": "ab25c72a-b503-4e21-865b-334c6ec5d878",
   "metadata": {
    "tags": []
   },
   "outputs": [
    {
     "data": {
      "text/plain": [
       "(53335, 1)"
      ]
     },
     "execution_count": 17,
     "metadata": {},
     "output_type": "execute_result"
    }
   ],
   "source": [
    "data.shape #yaklaşık 600 adet outlier gözlem veri setinden silindi."
   ]
  },
  {
   "cell_type": "markdown",
   "id": "0fe11493-29e6-4ac1-bde8-301e439c03de",
   "metadata": {
    "tags": []
   },
   "source": [
    "### Ortalama ile Doldurma"
   ]
  },
  {
   "cell_type": "code",
   "execution_count": null,
   "id": "a0066a02-6e31-477e-8d13-1c839d4e66b3",
   "metadata": {},
   "outputs": [],
   "source": [
    "#aykırı değerleri silmek yerine ortalama değere çekmek için veri setini baştan import etmek gerek."
   ]
  },
  {
   "cell_type": "code",
   "execution_count": 20,
   "id": "71645bcb-dcf6-477b-85bd-284ab397bd7a",
   "metadata": {},
   "outputs": [],
   "source": [
    "import seaborn as sns\n",
    "df = sns.load_dataset(\"diamonds\") #seaborn kütüphanesinden diamonds veri seti\n",
    "df = df.select_dtypes(\"float64\",\"int64\") #sadece sayısal verileri çekmek için filtreleme\n",
    "df = df.dropna() #null değer temizliği"
   ]
  },
  {
   "cell_type": "code",
   "execution_count": 23,
   "id": "2cf4d581-a322-4e1f-bedc-3f4b7231e9f5",
   "metadata": {
    "tags": []
   },
   "outputs": [],
   "source": [
    "df_table = df[\"table\"] #table column'ı için outlier değerlere bakılacak."
   ]
  },
  {
   "cell_type": "code",
   "execution_count": 27,
   "id": "209d8e6b-bf55-497e-be2a-99e4be3d6d82",
   "metadata": {
    "tags": []
   },
   "outputs": [
    {
     "data": {
      "text/plain": [
       "1515     51.0\n",
       "3238     50.1\n",
       "3979     51.0\n",
       "4150     51.0\n",
       "5979     49.0\n",
       "7418     50.0\n",
       "8853     51.0\n",
       "11368    43.0\n",
       "22701    49.0\n",
       "25179    50.0\n",
       "26387    51.0\n",
       "33586    51.0\n",
       "35633    44.0\n",
       "45798    51.0\n",
       "46040    51.0\n",
       "47630    51.0\n",
       "Name: table, dtype: float64"
      ]
     },
     "execution_count": 27,
     "metadata": {},
     "output_type": "execute_result"
    }
   ],
   "source": [
    "df_table[aykiri_alt]"
   ]
  },
  {
   "cell_type": "code",
   "execution_count": null,
   "id": "cd67bec2-eda3-4ccb-a67b-30cb5eaed44d",
   "metadata": {},
   "outputs": [],
   "source": []
  },
  {
   "cell_type": "code",
   "execution_count": null,
   "id": "96c56830-5adf-49ad-9e06-40a095956f6f",
   "metadata": {},
   "outputs": [],
   "source": []
  }
 ],
 "metadata": {
  "kernelspec": {
   "display_name": "Python 3 (ipykernel)",
   "language": "python",
   "name": "python3"
  },
  "language_info": {
   "codemirror_mode": {
    "name": "ipython",
    "version": 3
   },
   "file_extension": ".py",
   "mimetype": "text/x-python",
   "name": "python",
   "nbconvert_exporter": "python",
   "pygments_lexer": "ipython3",
   "version": "3.11.5"
  }
 },
 "nbformat": 4,
 "nbformat_minor": 5
}
